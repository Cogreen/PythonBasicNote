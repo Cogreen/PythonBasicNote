{
 "cells": [
  {
   "cell_type": "markdown",
   "metadata": {},
   "source": [
    "### [문제1]    \n",
    "- x,y 변수에 있는 값을 기준으로 수행한 결과 입니다.\n",
    "- x 와 y 변수에 어떤 값이 있어야 하나요.\n",
    "- 또한 결과값이 나오기 위해서 어떤 계산식을 만들어야 하는지 계산식을 만들어 보세요."
   ]
  },
  {
   "cell_type": "code",
   "execution_count": 2,
   "metadata": {},
   "outputs": [],
   "source": [
    "result_1 = 7\n",
    "result_2 =  3\n",
    "result_3 =  -3\n",
    "result_4 =  10\n",
    "result_5 =  0.4\n",
    "result_6 =  0\n",
    "result_7 =  2\n",
    "result_8 =  32\n",
    "result_9 =  7.0\n",
    "result_10 =  -21\n",
    "result_11 =  50\n",
    "result_12 =  29"
   ]
  },
  {
   "cell_type": "code",
   "execution_count": 10,
   "metadata": {},
   "outputs": [
    {
     "name": "stdout",
     "output_type": "stream",
     "text": [
      "result_1 = 7\n",
      "result_2 = 3\n",
      "result_3 = -3\n",
      "result_4 = 10\n",
      "result_5 = 0.4\n",
      "result_6 = 0\n",
      "result_7 = 2\n",
      "result_8 = 32\n",
      "result_9 = 7.0\n",
      "result_10 = -21\n",
      "result_11 = 50\n",
      "result_12 = 29\n"
     ]
    }
   ],
   "source": [
    "#내답\n",
    "x = 2\n",
    "y = 5\n",
    "result_1=x+y\n",
    "result_2=y-x\n",
    "result_3=x-y\n",
    "result_4=x*y\n",
    "result_5=x/y\n",
    "result_6=x//y\n",
    "result_7=x%y\n",
    "result_8=x**y\n",
    "result_9=x+x*y/x\n",
    "result_10=(x+y)*(x-y)\n",
    "result_11=x*y**x\n",
    "result_12=(x**x)+(y**x)\n",
    "\n",
    "print(\"result_1 =\", result_1)\n",
    "print(\"result_2 =\", result_2)\n",
    "print(\"result_3 =\", result_3)\n",
    "print(\"result_4 =\", result_4)\n",
    "print(\"result_5 =\", result_5)\n",
    "print(\"result_6 =\", result_6)\n",
    "print(\"result_7 =\", result_7)\n",
    "print(\"result_8 =\", result_8)\n",
    "print(\"result_9 =\", result_9)\n",
    "print(\"result_10 =\", result_10)\n",
    "print(\"result_11 =\", result_11)\n",
    "print(\"result_12 =\", result_12)"
   ]
  },
  {
   "cell_type": "markdown",
   "metadata": {},
   "source": [
    "### [문제2]  v_str 변수에 이 문자열을 입력하세요. "
   ]
  },
  {
   "cell_type": "code",
   "execution_count": 12,
   "metadata": {},
   "outputs": [
    {
     "data": {
      "text/plain": [
       "30"
      ]
     },
     "execution_count": 12,
     "metadata": {},
     "output_type": "execute_result"
    }
   ],
   "source": [
    "v_str = \"시간은 멈추지 않습니다. 하루를 유익하게 살아야합니다.\"\n",
    "len(v_str)"
   ]
  },
  {
   "cell_type": "markdown",
   "metadata": {},
   "source": [
    "#### [문제 2-1] \"시간은 멈추지 않습니다.\" 만 출력해주세요"
   ]
  },
  {
   "cell_type": "code",
   "execution_count": 15,
   "metadata": {},
   "outputs": [
    {
     "data": {
      "text/plain": [
       "'시간은 멈추지 않습니다.'"
      ]
     },
     "execution_count": 15,
     "metadata": {},
     "output_type": "execute_result"
    }
   ],
   "source": [
    "v_str[0:13]"
   ]
  },
  {
   "cell_type": "markdown",
   "metadata": {},
   "source": [
    "#### [문제 2-2] \"하루를 유익하게 살아야합니다.\" 만 출력해주세요"
   ]
  },
  {
   "cell_type": "code",
   "execution_count": 19,
   "metadata": {},
   "outputs": [
    {
     "data": {
      "text/plain": [
       "'하루를 유익하게 살아야합니다.'"
      ]
     },
     "execution_count": 19,
     "metadata": {},
     "output_type": "execute_result"
    }
   ],
   "source": [
    "v_str[14:30]"
   ]
  },
  {
   "cell_type": "code",
   "execution_count": 18,
   "metadata": {},
   "outputs": [
    {
     "data": {
      "text/plain": [
       "'하루를 유익하게 살아야합니다.'"
      ]
     },
     "execution_count": 18,
     "metadata": {},
     "output_type": "execute_result"
    }
   ],
   "source": [
    "v_str[14::]"
   ]
  },
  {
   "cell_type": "markdown",
   "metadata": {},
   "source": [
    "#### [문제 2-3] \"살아야합니다.\"  만 출력해주세요"
   ]
  },
  {
   "cell_type": "code",
   "execution_count": 20,
   "metadata": {},
   "outputs": [
    {
     "data": {
      "text/plain": [
       "'살아야합니다.'"
      ]
     },
     "execution_count": 20,
     "metadata": {},
     "output_type": "execute_result"
    }
   ],
   "source": [
    "v_str[-7::]"
   ]
  },
  {
   "cell_type": "markdown",
   "metadata": {},
   "source": [
    "#### [문제 2-4] \"시추니루하야\"  이 글자만 출력해주세요."
   ]
  },
  {
   "cell_type": "code",
   "execution_count": 21,
   "metadata": {},
   "outputs": [
    {
     "data": {
      "text/plain": [
       "'시추니루하야'"
      ]
     },
     "execution_count": 21,
     "metadata": {},
     "output_type": "execute_result"
    }
   ],
   "source": [
    "v_str[0:30:5]"
   ]
  },
  {
   "cell_type": "markdown",
   "metadata": {},
   "source": [
    "#### [문제 2-5] \"시간은 멈추지 않습니다. 하루를 유익하게\" 만 출력해주세요."
   ]
  },
  {
   "cell_type": "code",
   "execution_count": 22,
   "metadata": {},
   "outputs": [
    {
     "data": {
      "text/plain": [
       "'시간은 멈추지 않습니다. 하루를 유익하게 '"
      ]
     },
     "execution_count": 22,
     "metadata": {},
     "output_type": "execute_result"
    }
   ],
   "source": [
    "v_str[0:-7]"
   ]
  },
  {
   "cell_type": "markdown",
   "metadata": {},
   "source": [
    "#### [문제 2-6] v_str 문자열을 뒤순으로 출력해 주세요."
   ]
  },
  {
   "cell_type": "code",
   "execution_count": 23,
   "metadata": {},
   "outputs": [
    {
     "data": {
      "text/plain": [
       "'.다니합야아살 게하익유 를루하 .다니습않 지추멈 은간시'"
      ]
     },
     "execution_count": 23,
     "metadata": {},
     "output_type": "execute_result"
    }
   ],
   "source": [
    "v_str[::-1]"
   ]
  },
  {
   "cell_type": "markdown",
   "metadata": {},
   "source": [
    "### [문제3] R과 달리 인덱스를 바로 변환하지 못하므로 조각조각 내어 문제를 풀어야 한다. \n",
    "#### 인덱스를 이용해서 리 -> 이로 변환하세요."
   ]
  },
  {
   "cell_type": "code",
   "execution_count": 25,
   "metadata": {},
   "outputs": [
    {
     "data": {
      "text/plain": [
       "'파리썬'"
      ]
     },
     "execution_count": 25,
     "metadata": {},
     "output_type": "execute_result"
    }
   ],
   "source": [
    ">>> x = '파리썬'\n",
    ">>> x\n",
    "'파리썬'"
   ]
  },
  {
   "cell_type": "code",
   "execution_count": 26,
   "metadata": {},
   "outputs": [
    {
     "data": {
      "text/plain": [
       "'파이썬'"
      ]
     },
     "execution_count": 26,
     "metadata": {},
     "output_type": "execute_result"
    }
   ],
   "source": [
    "x = '파리썬'\n",
    "x = x[0]+'이'+x[2]\n",
    "x"
   ]
  }
 ],
 "metadata": {
  "kernelspec": {
   "display_name": "Python 3",
   "language": "python",
   "name": "python3"
  },
  "language_info": {
   "codemirror_mode": {
    "name": "ipython",
    "version": 3
   },
   "file_extension": ".py",
   "mimetype": "text/x-python",
   "name": "python",
   "nbconvert_exporter": "python",
   "pygments_lexer": "ipython3",
   "version": "3.7.1"
  }
 },
 "nbformat": 4,
 "nbformat_minor": 2
}

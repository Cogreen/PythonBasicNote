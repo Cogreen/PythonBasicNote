{
 "cells": [
  {
   "cell_type": "markdown",
   "metadata": {},
   "source": [
    "### Formating\n",
    "- 문자열을 함수처럼 변수의 값수로 넣는 방법"
   ]
  },
  {
   "cell_type": "code",
   "execution_count": 85,
   "metadata": {},
   "outputs": [],
   "source": [
    "name = \"제임스\"\n",
    "music = \"클래식\""
   ]
  },
  {
   "cell_type": "code",
   "execution_count": 88,
   "metadata": {},
   "outputs": [
    {
     "name": "stdout",
     "output_type": "stream",
     "text": [
      "안녕하세요. 제임스입니다. 즐겨듣는 음악은 클래식입니다\n"
     ]
    }
   ],
   "source": [
    "#{}, format(name, music)\n",
    "print(\"안녕하세요. {}입니다. 즐겨듣는 음악은 {}입니다\".format(name, music))"
   ]
  },
  {
   "cell_type": "code",
   "execution_count": 91,
   "metadata": {},
   "outputs": [
    {
     "name": "stdout",
     "output_type": "stream",
     "text": [
      "안녕하세요. 제임스입니다. 즐겨듣는 음악은 클래식입니다.\n"
     ]
    }
   ],
   "source": [
    "#포맷팅 코드: %s, 들어가야할 값 %(,)\n",
    "print(\"안녕하세요. %s입니다. 즐겨듣는 음악은 %s입니다.\"%(name, music))"
   ]
  },
  {
   "cell_type": "code",
   "execution_count": 93,
   "metadata": {},
   "outputs": [
    {
     "name": "stdout",
     "output_type": "stream",
     "text": [
      "996를 8 나누면 4가 나머지 입니다.\n"
     ]
    }
   ],
   "source": [
    "#포맷팅 코드: %d(정수 포맷), 들어가야할 값 %(,)\n",
    "x = 996\n",
    "y = 8\n",
    "result = x % y\n",
    "print(\"%d를 %d 나누면 %d가 나머지 입니다.\"%(x,y,result))"
   ]
  },
  {
   "cell_type": "code",
   "execution_count": 95,
   "metadata": {},
   "outputs": [
    {
     "name": "stdout",
     "output_type": "stream",
     "text": [
      "996를 8 나누면 124는 몫이고 4나머지 입니다.\n"
     ]
    }
   ],
   "source": [
    "result1 = x//y\n",
    "result2 = x%y\n",
    "print(\"%d를 %d 나누면 %d는 몫이고 %d나머지 입니다.\"%(x,y,result1, result2))"
   ]
  },
  {
   "cell_type": "code",
   "execution_count": 97,
   "metadata": {},
   "outputs": [
    {
     "name": "stdout",
     "output_type": "stream",
     "text": [
      "996를 8 나누면 124는 몫이고 4나머지 입니다.\n"
     ]
    }
   ],
   "source": [
    "result3, result4 = divmod(x,y)\n",
    "print(\"%d를 %d 나누면 %d는 몫이고 %d나머지 입니다.\"%(x,y,result3, result4))"
   ]
  },
  {
   "cell_type": "code",
   "execution_count": 102,
   "metadata": {},
   "outputs": [
    {
     "name": "stdout",
     "output_type": "stream",
     "text": [
      "원주율은 3입니다.\n"
     ]
    }
   ],
   "source": [
    "print(\"원주율은 %d입니다.\"%3.14159)"
   ]
  },
  {
   "cell_type": "code",
   "execution_count": 104,
   "metadata": {},
   "outputs": [
    {
     "name": "stdout",
     "output_type": "stream",
     "text": [
      "원주율은 3.14159입니다.\n"
     ]
    }
   ],
   "source": [
    "print(\"원주율은 {}입니다.\".format(3.14159))"
   ]
  },
  {
   "cell_type": "code",
   "execution_count": 106,
   "metadata": {},
   "outputs": [
    {
     "name": "stdout",
     "output_type": "stream",
     "text": [
      "원주율은 3.141590입니다.\n"
     ]
    }
   ],
   "source": [
    "# %f는 실수를 나타내주는 포맷팅 코드\n",
    "print(\"원주율은 %f입니다.\"%3.14159)"
   ]
  }
 ],
 "metadata": {
  "kernelspec": {
   "display_name": "Python 3",
   "language": "python",
   "name": "python3"
  },
  "language_info": {
   "codemirror_mode": {
    "name": "ipython",
    "version": 3
   },
   "file_extension": ".py",
   "mimetype": "text/x-python",
   "name": "python",
   "nbconvert_exporter": "python",
   "pygments_lexer": "ipython3",
   "version": "3.7.1"
  }
 },
 "nbformat": 4,
 "nbformat_minor": 2
}
